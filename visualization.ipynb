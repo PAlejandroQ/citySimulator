{
 "cells": [
  {
   "cell_type": "code",
   "execution_count": 9,
   "metadata": {},
   "outputs": [],
   "source": [
    "import mesa\n",
    "import seaborn as sns\n",
    "import numpy as np\n",
    "import pandas as pd\n",
    "import requests\n",
    "import json\n",
    "# from agents import MoneyAgent\n",
    "from utils import compute_gini, citizenStates, raiderStates\n",
    "from model import MoneyModel\n",
    "from CitizenAgent import CitizenAgent\n",
    "from RaiderAgent import RaiderAgent\n",
    "from WallAgent import WallAgent"
   ]
  },
  {
   "cell_type": "code",
   "execution_count": 17,
   "metadata": {},
   "outputs": [],
   "source": [
    "def agent_portrayal(agent):\n",
    "    size = 10\n",
    "    # color = \"tab:red\"\n",
    "    # if agent.wealth > 0:\n",
    "    #     size = 10\n",
    "    #     color = \"tab:blue\"\n",
    "\n",
    "    if isinstance(agent,CitizenAgent):\n",
    "        if agent.state == citizenStates.WALK:\n",
    "            color = \"tab:green\"\n",
    "        elif agent.state == citizenStates.SUSPICION:\n",
    "            color = \"gold\"\n",
    "        elif agent.state == citizenStates.PURSUED:\n",
    "            color = \"sandybrown\"\n",
    "        elif agent.state == citizenStates.ASSAULTED:\n",
    "            color = \"red\"\n",
    "        else:\n",
    "            print(\"Bad detections of instance!!!!\")\n",
    "    elif isinstance(agent,RaiderAgent):\n",
    "        if agent.state == raiderStates.WALK:\n",
    "            color = \"dodgerblue\"\n",
    "        elif agent.state == raiderStates.STALKIN:\n",
    "            color = \"slateblue\"\n",
    "        elif agent.state == raiderStates.CHASING    :\n",
    "            color = \"mediumblue\"\n",
    "        elif agent.state == raiderStates.ASSAULTING:\n",
    "            color = \"midnightblue\"\n",
    "            size = 15\n",
    "        else:\n",
    "            print(\"Bad detections of instance!!!!\")\n",
    "    elif isinstance(agent,WallAgent):\n",
    "        color = \"lightgray\"\n",
    "        size = 1\n",
    "    else:\n",
    "        print(\"Bad detections of instance!!!!\")\n",
    "\n",
    "    \n",
    "    \n",
    "    return {\"size\": size, \"color\": color}"
   ]
  },
  {
   "cell_type": "code",
   "execution_count": 22,
   "metadata": {},
   "outputs": [],
   "source": [
    "model_params = {\n",
    "    \"num_citizen\": {\n",
    "        \"type\": \"SliderInt\",\n",
    "        \"value\": 4,\n",
    "        \"label\": \"Number of citizen:\",\n",
    "        \"min\": 1,\n",
    "        \"max\": 34,\n",
    "        \"step\": 1,\n",
    "    },\n",
    "    \"num_raider\": 2,\n",
    "    \"width\": 70,\n",
    "    \"height\": 70,\n",
    "    \"distance_to_commute\": 30,\n",
    "    \"distance_field_of_view\":7,\n",
    "    \"countDownSuspicion\":3,\n",
    "    \"countDownChase\":3,\n",
    "    \"minCitizenToStalk\":2,\n",
    "    \"pathMap\":\"testImg.png\",\n",
    "    # \"pathMap\":\"mapReady.png\",\n",
    "    \"thresholdMap\":244\n",
    "}"
   ]
  },
  {
   "cell_type": "code",
   "execution_count": 23,
   "metadata": {},
   "outputs": [
    {
     "name": "stdout",
     "output_type": "stream",
     "text": [
      "124\n",
      "Current Dest : (49, 165)\n",
      "Current Dest : (81, 40)\n",
      "Current Dest : (34, 53)\n",
      "Current Dest : (52, 191)\n",
      "Current Dest : (121, 188)\n",
      "Current Dest : (88, 178)\n",
      "Holaaaaa\n",
      "124\n",
      "Current Dest : (97, 83)\n",
      "Current Dest : (27, 3)\n",
      "Current Dest : (97, 87)\n",
      "Current Dest : (11, 48)\n",
      "Current Dest : (30, 15)\n",
      "Current Dest : (42, 18)\n",
      "Holaaaaa\n"
     ]
    },
    {
     "data": {
      "application/vnd.jupyter.widget-view+json": {
       "model_id": "922a882338224577b0b218b2191ab6ab",
       "version_major": 2,
       "version_minor": 0
      },
      "text/html": [
       "Cannot show widget. You probably want to rerun the code cell above (<i>Click in the code cell, and press Shift+Enter <kbd>⇧</kbd>+<kbd>↩</kbd></i>)."
      ],
      "text/plain": [
       "Cannot show ipywidgets in text"
      ]
     },
     "metadata": {},
     "output_type": "display_data"
    }
   ],
   "source": [
    "from mesa.experimental import JupyterViz\n",
    "\n",
    "page = JupyterViz(\n",
    "    MoneyModel,\n",
    "    model_params,\n",
    "    measures=[\"Gini\"],\n",
    "    name=\"Money Model\",\n",
    "    agent_portrayal=agent_portrayal,\n",
    ")\n",
    "# This is required to render the visualization in the Jupyter notebook\n",
    "page"
   ]
  },
  {
   "cell_type": "code",
   "execution_count": 13,
   "metadata": {},
   "outputs": [
    {
     "name": "stdout",
     "output_type": "stream",
     "text": [
      "123\n",
      "916\n",
      "[['#' '#' '#' ... '#' '#' '#']\n",
      " ['#' '#' '#' ... '#' '#' '#']\n",
      " ['#' '#' '#' ... '#' '#' '#']\n",
      " ...\n",
      " ['_' '_' '#' ... '_' '_' '_']\n",
      " ['_' '_' '#' ... '_' '_' '_']\n",
      " ['_' '#' '#' ... '_' '_' '_']]\n"
     ]
    }
   ],
   "source": [
    "\n",
    "from PIL import Image\n",
    "import matplotlib.pyplot as plt\n",
    "import numpy as np\n",
    "def procesar_imagen(nombre_archivo, umbral=200):\n",
    "    # Abre la imagen y la convierte a escala de grises\n",
    "    imagen = Image.open(nombre_archivo).convert(\"L\")\n",
    "\n",
    "    # Obtiene los datos de los píxeles\n",
    "    datos = list(imagen.getdata())\n",
    "    print(min(datos))\n",
    "    # plt.imshow(datos, cmap=\"gray\")\n",
    "    # plt.axis('off')\n",
    "    # plt.show()\n",
    "    # Convierte los valores de píxeles a caracteres \"#\" o \"_\"\n",
    "    caracteres = [\"#\" if pixel < umbral else \"_\" for pixel in datos]\n",
    "\n",
    "    # Crea la matriz a partir de los caracteres\n",
    "    matriz = [caracteres[i:i + imagen.width] for i in range(0, len(caracteres), imagen.width)]\n",
    "\n",
    "    return np.array(matriz)\n",
    "\n",
    "def imprimir_matriz(matriz):\n",
    "    for fila in matriz:\n",
    "        print(\"\".join(fila))\n",
    "\n",
    "if __name__ == \"__main__\":\n",
    "    # Cambia el nombre de la imagen según tu archivo\n",
    "    nombre_archivo = \"mapReady.png\"\n",
    "    \n",
    "    # Ajusta el umbral según tu imagen\n",
    "    # umbral = 244 umbral de cambio minimo\n",
    "    # 255 umbral maximo\n",
    "    umbral = 244\n",
    "\n",
    "    matriz_resultante = procesar_imagen(nombre_archivo, umbral)\n",
    "    print(len(matriz_resultante))\n",
    "    # imprimir_matriz(matriz_resultante)\n",
    "    print(np.array(matriz_resultante))\n",
    "    # plt.imshow(caracteres_data, cmap=\"gray\")\n",
    "    # plt.axis('off')\n",
    "    # plt.show()\n"
   ]
  },
  {
   "cell_type": "code",
   "execution_count": null,
   "metadata": {},
   "outputs": [],
   "source": []
  }
 ],
 "metadata": {
  "kernelspec": {
   "display_name": "uni",
   "language": "python",
   "name": "python3"
  },
  "language_info": {
   "codemirror_mode": {
    "name": "ipython",
    "version": 3
   },
   "file_extension": ".py",
   "mimetype": "text/x-python",
   "name": "python",
   "nbconvert_exporter": "python",
   "pygments_lexer": "ipython3",
   "version": "3.11.2"
  }
 },
 "nbformat": 4,
 "nbformat_minor": 2
}
